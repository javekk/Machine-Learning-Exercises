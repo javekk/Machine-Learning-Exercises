{
 "cells": [
  {
   "cell_type": "markdown",
   "metadata": {},
   "source": [
    "# Machine Learning \n",
    "\n",
    "### Raffaele Perini \n",
    "\n",
    "In this notebook we are going to explore some functionalities regaring  **Scikit-learn** (https://scikit-learn.org/)\n",
    "\n",
    "Dataset http://scikit-learn.org/stable/modules/generated/sklearn.datasets.load_digits.html"
   ]
  },
  {
   "cell_type": "markdown",
   "metadata": {},
   "source": [
    "## Load the dataset"
   ]
  },
  {
   "cell_type": "code",
   "execution_count": 1,
   "metadata": {},
   "outputs": [
    {
     "name": "stdout",
     "output_type": "stream",
     "text": [
      "(1797, 64)\n",
      "[0 1 2 3 4 5 6 7 8 9]\n"
     ]
    }
   ],
   "source": [
    "# Import dataset\n",
    "from sklearn.datasets import load_digits\n",
    "\n",
    "# Load dataset\n",
    "digits = load_digits()\n",
    "\n",
    "# Shape\n",
    "print(digits.data.shape)\n",
    "\n",
    "# Names of the targets(classes of the classifier)\n",
    "print(digits.target_names)"
   ]
  },
  {
   "cell_type": "markdown",
   "metadata": {},
   "source": [
    "## Visualization\n",
    "In this part there are some example on how to visualize data"
   ]
  },
  {
   "cell_type": "code",
   "execution_count": 2,
   "metadata": {},
   "outputs": [
    {
     "name": "stdout",
     "output_type": "stream",
     "text": [
      "[ 0.  0.  0. 12. 13.  5.  0.  0.  0.  0.  0. 11. 16.  9.  0.  0.  0.  0.\n",
      "  3. 15. 16.  6.  0.  0.  0.  7. 15. 16. 16.  2.  0.  0.  0.  0.  1. 16.\n",
      " 16.  3.  0.  0.  0.  0.  1. 16. 16.  6.  0.  0.  0.  0.  1. 16. 16.  6.\n",
      "  0.  0.  0.  0.  0. 11. 16. 10.  0.  0.]\n"
     ]
    },
    {
     "data": {
      "image/png": "[encoded data removed]",
      "text/plain": [
       "<Figure size 216x216 with 1 Axes>"
      ]
     },
     "metadata": {
      "needs_background": "light"
     },
     "output_type": "display_data"
    }
   ],
   "source": [
    "# library for displaying plots\n",
    "import matplotlib.pyplot as plt\n",
    "# display plots in the notebook\n",
    "%matplotlib inline\n",
    "\n",
    "\n",
    "# Example of data and its representation\n",
    "print(digits.data[1])\n",
    "\n",
    "#Display the digit\n",
    "plt.figure(1, figsize=(3, 3))\n",
    "plt.imshow(digits.images[1], cmap=plt.cm.gray_r, interpolation='nearest')\n",
    "plt.show()"
   ]
  },
  {
   "cell_type": "code",
   "execution_count": 3,
   "metadata": {},
   "outputs": [
    {
     "data": {
      "image/png": "[encoded data removed]",
      "text/plain": [
       "<Figure size 432x288 with 1 Axes>"
      ]
     },
     "metadata": {
      "needs_background": "light"
     },
     "output_type": "display_data"
    }
   ],
   "source": [
    "# Plot histogram\n",
    "plt.hist(digits.target)\n",
    "plt.ylabel('Number of instances')\n",
    "plt.xlabel('digit class')\n",
    "plt.xticks(range(len(digits.target_names)), digits.target_names);"
   ]
  },
  {
   "cell_type": "code",
   "execution_count": 4,
   "metadata": {
    "scrolled": true
   },
   "outputs": [
    {
     "data": {
      "text/plain": [
       "Text(0,0.5,'Pixel color number')"
      ]
     },
     "execution_count": 4,
     "metadata": {},
     "output_type": "execute_result"
    },
    {
     "data": {
      "image/png": "[encoded data removed]",
      "text/plain": [
       "<Figure size 432x288 with 1 Axes>"
      ]
     },
     "metadata": {
      "needs_background": "light"
     },
     "output_type": "display_data"
    }
   ],
   "source": [
    "# Distribution of the 22nd pixel value for each digit class\n",
    "plt.scatter(digits.data[:,22], digits.target)\n",
    "plt.yticks(range(len(digits.target_names)), digits.target_names);\n",
    "plt.xlabel('Classes')\n",
    "plt.ylabel('Pixel color number')"
   ]
  },
  {
   "cell_type": "markdown",
   "metadata": {},
   "source": [
    "#  Classification Algorithms"
   ]
  },
  {
   "cell_type": "markdown",
   "metadata": {},
   "source": [
    "## k-Nearest Neighbors Model\n",
    "\n",
    "We are going to train the model, make predictions with this model and evaluate these predictions.\n",
    "\n",
    "### preprocessing of the algorithm\n",
    "\n",
    "The first step after loading data is  to preprocess the data"
   ]
  },
  {
   "cell_type": "code",
   "execution_count": 5,
   "metadata": {
    "scrolled": true
   },
   "outputs": [
    {
     "name": "stdout",
     "output_type": "stream",
     "text": [
      "((1347, 64), (450, 64))\n"
     ]
    }
   ],
   "source": [
    "# Import library for training set split\n",
    "from sklearn.model_selection import train_test_split\n",
    "\n",
    "x_digits, y_digits = digits.data, digits.target\n",
    "# Test set will be the 25% taken randomly\n",
    "x_train, x_test, y_train, y_test = train_test_split(x_digits, y_digits, test_size=0.25, random_state=33)\n",
    "\n",
    "# Dimensions of train and testing\n",
    "print(x_train.shape, x_test.shape)"
   ]
  },
  {
   "cell_type": "code",
   "execution_count": 6,
   "metadata": {},
   "outputs": [],
   "source": [
    "# Standardize the features\n",
    "from sklearn import preprocessing\n",
    "scaler = preprocessing.StandardScaler().fit(x_train)\n",
    "x_train = scaler.transform(x_train)\n",
    "x_test = scaler.transform(x_test)"
   ]
  },
  {
   "cell_type": "markdown",
   "metadata": {},
   "source": [
    "### Train classifier\n",
    "\n",
    "The steps are:\n",
    "* Create classifier object\n",
    "* Call fit to train the classifier\n",
    "* Call predict to obtain predictions"
   ]
  },
  {
   "cell_type": "code",
   "execution_count": 7,
   "metadata": {},
   "outputs": [
    {
     "name": "stdout",
     "output_type": "stream",
     "text": [
      "('Prediction: ', array([4, 7, 4, ..., 1, 5, 5]))\n",
      "('Expected: ', array([4, 7, 4, ..., 1, 5, 5]))\n"
     ]
    }
   ],
   "source": [
    "from sklearn.neighbors import KNeighborsClassifier\n",
    "import numpy as np\n",
    "\n",
    "# Create kNN model with k = 15\n",
    "model = KNeighborsClassifier(n_neighbors=15)\n",
    "\n",
    "# Train the model using the training sets\n",
    "model.fit(x_train, y_train)\n",
    "\n",
    "# Prediction\n",
    "print(\"Prediction: \", model.predict(x_train))\n",
    "print(\"Expected: \", y_train)\n",
    "\n",
    "# Print the Predicted probabilities for each class\n",
    "# print(\"Predicted probabilities\", model.predict_proba(x_train[:10]))"
   ]
  },
  {
   "cell_type": "code",
   "execution_count": 8,
   "metadata": {},
   "outputs": [
    {
     "name": "stdout",
     "output_type": "stream",
     "text": [
      "('Accuracy in training: ', 0.9732739420935412)\n",
      "('Accuracy in testing: ', 0.9711111111111111)\n"
     ]
    }
   ],
   "source": [
    "# Evaluate Accuracy in training\n",
    "from sklearn import metrics\n",
    "y_train_pred = model.predict(x_train)\n",
    "print(\"Accuracy in training: \", metrics.accuracy_score(y_train, y_train_pred))\n",
    "\n",
    "# Evaluate Accuracy in testing\n",
    "y_test_pred = model.predict(x_test)\n",
    "print(\"Accuracy in testing: \", metrics.accuracy_score(y_test, y_test_pred))"
   ]
  },
  {
   "cell_type": "markdown",
   "metadata": {},
   "source": [
    "### Evaluating the algorithm\n",
    "\n",
    "Precision, recall and f-score\n",
    "\n",
    "* **Precision**: This computes the proportion of instances predicted as positives that were correctly evaluated (it measures how right our classifier is when it says that an instance is positive).\n",
    "* **Recall**: This counts the proportion of positive instances that were correctly evaluated (measuring how right our classifier is when faced with a positive instance).\n",
    "* **F1-score**: This is the harmonic mean of precision and recall, and tries to combine both in a single number."
   ]
  },
  {
   "cell_type": "code",
   "execution_count": 9,
   "metadata": {
    "scrolled": true
   },
   "outputs": [
    {
     "name": "stdout",
     "output_type": "stream",
     "text": [
      "             precision    recall  f1-score   support\n",
      "\n",
      "          0       1.00      1.00      1.00        35\n",
      "          1       0.96      0.98      0.97        54\n",
      "          2       1.00      1.00      1.00        44\n",
      "          3       0.98      0.96      0.97        46\n",
      "          4       1.00      0.91      0.96        35\n",
      "          5       0.98      0.96      0.97        48\n",
      "          6       0.98      1.00      0.99        51\n",
      "          7       0.97      1.00      0.99        35\n",
      "          8       0.90      0.95      0.92        58\n",
      "          9       0.98      0.95      0.97        44\n",
      "\n",
      "avg / total       0.97      0.97      0.97       450\n",
      "\n"
     ]
    }
   ],
   "source": [
    "target_names = list(digits.target_names)\n",
    "print(metrics.classification_report(y_test, y_test_pred, target_names))"
   ]
  },
  {
   "cell_type": "markdown",
   "metadata": {},
   "source": [
    "### Confusion Matrix\n",
    "\n",
    "Used to check the actual error in the prediction"
   ]
  },
  {
   "cell_type": "code",
   "execution_count": 10,
   "metadata": {},
   "outputs": [
    {
     "name": "stdout",
     "output_type": "stream",
     "text": [
      "[[35  0  0  0  0  0  0  0  0  0]\n",
      " [ 0 53  0  0  0  0  0  0  1  0]\n",
      " [ 0  0 44  0  0  0  0  0  0  0]\n",
      " [ 0  0  0 44  0  0  0  0  2  0]\n",
      " [ 0  0  0  0 32  0  0  1  2  0]\n",
      " [ 0  0  0  0  0 46  1  0  0  1]\n",
      " [ 0  0  0  0  0  0 51  0  0  0]\n",
      " [ 0  0  0  0  0  0  0 35  0  0]\n",
      " [ 0  2  0  1  0  0  0  0 55  0]\n",
      " [ 0  0  0  0  0  1  0  0  1 42]]\n"
     ]
    }
   ],
   "source": [
    "print(metrics.confusion_matrix(y_test, y_test_pred, ))"
   ]
  },
  {
   "cell_type": "markdown",
   "metadata": {},
   "source": [
    "#### K-Fold validation\n",
    "\n",
    "Used to avoid bias in the training and testing dataset partition.\n"
   ]
  },
  {
   "cell_type": "code",
   "execution_count": 11,
   "metadata": {},
   "outputs": [
    {
     "name": "stdout",
     "output_type": "stream",
     "text": [
      "[0.97777778 0.97222222 0.99444444 0.97777778 0.97222222 0.96111111\n",
      " 0.97777778 0.97765363 0.98882682 0.98882682]\n"
     ]
    }
   ],
   "source": [
    "from sklearn.model_selection import cross_val_score, KFold\n",
    "from sklearn.pipeline import Pipeline\n",
    "from sklearn.preprocessing import StandardScaler\n",
    "\n",
    "# create a composite estimator made by a pipeline of preprocessing and the KNN model\n",
    "model = Pipeline([\n",
    "        ('scaler', StandardScaler()),\n",
    "        ('kNN', KNeighborsClassifier())\n",
    "])\n",
    "\n",
    "# create a k-fold cross validation iterator of k=10 folds\n",
    "cv = KFold(10, shuffle=True, random_state=33)\n",
    "\n",
    "# by default the score used is the one returned by score method of the estimator (accuracy)\n",
    "scores = cross_val_score(model, x_digits, y_digits, cv=cv)\n",
    "print(scores)"
   ]
  },
  {
   "cell_type": "code",
   "execution_count": 12,
   "metadata": {},
   "outputs": [
    {
     "name": "stdout",
     "output_type": "stream",
     "text": [
      "Mean score: 0.979 (+/- 0.003)\n"
     ]
    }
   ],
   "source": [
    "from scipy.stats import sem\n",
    "def mean_score(scores):\n",
    "    return (\"Mean score: {0:.3f} (+/- {1:.3f})\").format(np.mean(scores), sem(scores))\n",
    "print(mean_score(scores))"
   ]
  },
  {
   "cell_type": "markdown",
   "metadata": {},
   "source": [
    "In the end we got and accuracy of 0.979"
   ]
  },
  {
   "cell_type": "markdown",
   "metadata": {},
   "source": [
    "### Tuning the algorithm\n",
    "We are going to tune the algorithm, and calculate which is the best value for the k parameter.\n",
    "\n",
    "The result is very dependent of the input data, using a small k increases accuracy in the model but increase also overfitting, in the other hand using a big k increases the error."
   ]
  },
  {
   "cell_type": "code",
   "execution_count": 13,
   "metadata": {
    "scrolled": true
   },
   "outputs": [
    {
     "data": {
      "text/plain": [
       "Text(0,0.5,'Accuracy')"
      ]
     },
     "execution_count": 13,
     "metadata": {},
     "output_type": "execute_result"
    },
    {
     "data": {
      "image/png": "[encoded data removed]",
      "text/plain": [
       "<Figure size 432x288 with 1 Axes>"
      ]
     },
     "metadata": {
      "needs_background": "light"
     },
     "output_type": "display_data"
    }
   ],
   "source": [
    "k_range = range(1, 31)\n",
    "accuracy = []\n",
    "for k in k_range:\n",
    "    m = KNeighborsClassifier(k)\n",
    "    m.fit(x_train, y_train)\n",
    "    y_test_pred = m.predict(x_test)\n",
    "    accuracy.append(metrics.accuracy_score(y_test, y_test_pred))\n",
    "plt.plot(k_range, accuracy)\n",
    "plt.xlabel('k value')\n",
    "plt.ylabel('Accuracy')"
   ]
  },
  {
   "cell_type": "markdown",
   "metadata": {},
   "source": [
    "## Decision Tree learning Algorithm\n",
    "\n",
    "The scikit-learn uses an optimised version of the CART (Classification and Regression Trees) algorithm.\n",
    "\n",
    "### Train Algorithm\n",
    "\n",
    "Same steps performed for kNN, but in this case we try to change the percentage at 15%, to increase a bit the accuracy of the model"
   ]
  },
  {
   "cell_type": "code",
   "execution_count": 14,
   "metadata": {
    "scrolled": true
   },
   "outputs": [
    {
     "name": "stdout",
     "output_type": "stream",
     "text": [
      "((1455, 64), (342, 64))\n"
     ]
    }
   ],
   "source": [
    "# Import library for training set split\n",
    "from sklearn.model_selection import train_test_split\n",
    "\n",
    "x_digits, y_digits = digits.data, digits.target\n",
    "# Test set will be the 19% taken randomly\n",
    "x_train, x_test, y_train, y_test = train_test_split(x_digits, y_digits, test_size=0.19, random_state=33)\n",
    "\n",
    "# Dimensions of train and testing\n",
    "print(x_train.shape, x_test.shape)"
   ]
  },
  {
   "cell_type": "code",
   "execution_count": 15,
   "metadata": {},
   "outputs": [],
   "source": [
    "# Standardize the features\n",
    "from sklearn import preprocessing\n",
    "scaler = preprocessing.StandardScaler().fit(x_train)\n",
    "x_train = scaler.transform(x_train)\n",
    "x_test = scaler.transform(x_test)"
   ]
  },
  {
   "cell_type": "code",
   "execution_count": 16,
   "metadata": {},
   "outputs": [
    {
     "data": {
      "text/plain": [
       "DecisionTreeClassifier(class_weight=None, criterion='gini', max_depth=3,\n",
       "            max_features=None, max_leaf_nodes=None,\n",
       "            min_impurity_decrease=0.0, min_impurity_split=None,\n",
       "            min_samples_leaf=1, min_samples_split=2,\n",
       "            min_weight_fraction_leaf=0.0, presort=False, random_state=1,\n",
       "            splitter='best')"
      ]
     },
     "execution_count": 16,
     "metadata": {},
     "output_type": "execute_result"
    }
   ],
   "source": [
    "from sklearn.tree import DecisionTreeClassifier\n",
    "import numpy as np\n",
    "\n",
    "from sklearn import tree\n",
    "\n",
    "max_depth=3\n",
    "random_state=1\n",
    "\n",
    "# Create decision tree model\n",
    "model = tree.DecisionTreeClassifier(max_depth=max_depth, random_state=random_state)\n",
    "\n",
    "# Train the model using the training sets\n",
    "model.fit(x_train, y_train)"
   ]
  },
  {
   "cell_type": "code",
   "execution_count": 17,
   "metadata": {},
   "outputs": [
    {
     "name": "stdout",
     "output_type": "stream",
     "text": [
      "('Prediction: ', array([3, 3, 3, ..., 3, 3, 5]))\n",
      "('Expected: ', array([3, 3, 4, ..., 1, 5, 5]))\n"
     ]
    }
   ],
   "source": [
    "print(\"Prediction: \", model.predict(x_train))\n",
    "print(\"Expected: \", y_train)\n",
    "\n",
    "# Print the probabilities of each class\n",
    "# print(\"Predicted probabilities\", model.predict_proba(x_train[:10]))"
   ]
  },
  {
   "cell_type": "code",
   "execution_count": 18,
   "metadata": {},
   "outputs": [
    {
     "name": "stdout",
     "output_type": "stream",
     "text": [
      "('Accuracy in training: ', 0.49828178694158076)\n",
      "('Accuracy in testing: ', 0.4473684210526316)\n"
     ]
    }
   ],
   "source": [
    "from sklearn import metrics\n",
    "\n",
    "#Evaluate Accuracy in training\n",
    "y_train_pred = model.predict(x_train)\n",
    "print(\"Accuracy in training: \", metrics.accuracy_score(y_train, y_train_pred))\n",
    "\n",
    "# Now we evaluate error in testing\n",
    "y_test_pred = model.predict(x_test)\n",
    "print(\"Accuracy in testing: \", metrics.accuracy_score(y_test, y_test_pred))"
   ]
  },
  {
   "cell_type": "markdown",
   "metadata": {},
   "source": [
    "### Evaluating the algorithm\n",
    "\n",
    "Same way as kNN\n",
    "with confusion matrix"
   ]
  },
  {
   "cell_type": "code",
   "execution_count": 19,
   "metadata": {},
   "outputs": [
    {
     "name": "stdout",
     "output_type": "stream",
     "text": [
      "             precision    recall  f1-score   support\n",
      "\n",
      "          0       0.93      0.96      0.95        28\n",
      "          1       0.00      0.00      0.00        46\n",
      "          2       0.00      0.00      0.00        36\n",
      "          3       0.16      0.79      0.27        33\n",
      "          4       0.00      0.00      0.00        22\n",
      "          5       0.57      0.89      0.70        35\n",
      "          6       0.79      0.97      0.87        39\n",
      "          7       0.56      0.82      0.67        28\n",
      "          8       0.00      0.00      0.00        42\n",
      "          9       0.80      0.24      0.37        33\n",
      "\n",
      "avg / total       0.36      0.45      0.36       342\n",
      "\n",
      "[[27  0  0  0  0  1  0  0  0  0]\n",
      " [ 0  0  0 34  0  7  3  2  0  0]\n",
      " [ 1  0  0 27  0  6  1  1  0  0]\n",
      " [ 0  0  0 26  0  4  0  2  0  1]\n",
      " [ 0  0  0 10  0  1  5  6  0  0]\n",
      " [ 0  0  0  1  0 31  1  1  0  1]\n",
      " [ 0  0  0  0  0  1 38  0  0  0]\n",
      " [ 0  0  0  4  0  1  0 23  0  0]\n",
      " [ 0  0  0 38  0  1  0  3  0  0]\n",
      " [ 1  0  0 20  0  1  0  3  0  8]]\n"
     ]
    },
    {
     "name": "stderr",
     "output_type": "stream",
     "text": [
      "/opt/anaconda2/lib/python2.7/site-packages/sklearn/metrics/classification.py:1135: UndefinedMetricWarning: Precision and F-score are ill-defined and being set to 0.0 in labels with no predicted samples.\n",
      "  'precision', 'predicted', average, warn_for)\n"
     ]
    }
   ],
   "source": [
    "target_names = list(digits.target_names)\n",
    "print(metrics.classification_report(y_test, y_test_pred, target_names))\n",
    "print(metrics.confusion_matrix(y_test, y_test_pred))"
   ]
  },
  {
   "cell_type": "markdown",
   "metadata": {},
   "source": [
    "#### K fold cross validation\n"
   ]
  },
  {
   "cell_type": "code",
   "execution_count": 20,
   "metadata": {},
   "outputs": [
    {
     "name": "stdout",
     "output_type": "stream",
     "text": [
      "[0.83333333 0.83888889 0.86111111 0.88333333 0.91111111 0.85555556\n",
      " 0.87777778 0.86592179 0.83798883 0.84916201]\n"
     ]
    }
   ],
   "source": [
    "from sklearn.model_selection import cross_val_score, KFold\n",
    "from sklearn.pipeline import Pipeline\n",
    "from sklearn.preprocessing import StandardScaler\n",
    "\n",
    "# create a composite estimator made by a pipeline of preprocessing and the KNN model\n",
    "model = Pipeline([\n",
    "        ('scaler', StandardScaler()),\n",
    "        ('DecisionTree', DecisionTreeClassifier())\n",
    "])\n",
    "\n",
    "# create a k-fold cross validation iterator of k=10 folds\n",
    "cv = KFold(10, shuffle=True, random_state=33)\n",
    "\n",
    "# by default the score used is the one returned by score method of the estimator (accuracy)\n",
    "scores = cross_val_score(model, x_digits, y_digits, cv=cv)\n",
    "print(scores)\n",
    "\n"
   ]
  },
  {
   "cell_type": "code",
   "execution_count": 21,
   "metadata": {},
   "outputs": [
    {
     "name": "stdout",
     "output_type": "stream",
     "text": [
      "Mean score: 0.861 (+/- 0.008)\n"
     ]
    }
   ],
   "source": [
    "from scipy.stats import sem\n",
    "def mean_score(scores):\n",
    "    return (\"Mean score: {0:.3f} (+/- {1:.3f})\").format(np.mean(scores), sem(scores))\n",
    "print(mean_score(scores))"
   ]
  },
  {
   "cell_type": "markdown",
   "metadata": {},
   "source": [
    "### Tuning the algorithm\n",
    "\n",
    "Let's try now to tuning the algorithm changing the max_depth parameter"
   ]
  },
  {
   "cell_type": "code",
   "execution_count": 22,
   "metadata": {},
   "outputs": [
    {
     "data": {
      "text/plain": [
       "Text(0,0.5,'Accuracy')"
      ]
     },
     "execution_count": 22,
     "metadata": {},
     "output_type": "execute_result"
    },
    {
     "data": {
      "image/png": "[encoded data removed]",
      "text/plain": [
       "<Figure size 432x288 with 1 Axes>"
      ]
     },
     "metadata": {
      "needs_background": "light"
     },
     "output_type": "display_data"
    }
   ],
   "source": [
    "k_range = range(1, 20)\n",
    "\n",
    "max_depth=3\n",
    "random_state=1\n",
    "\n",
    "# Create decision tree model\n",
    "accuracy = []\n",
    "for k in k_range:   \n",
    "    m = tree.DecisionTreeClassifier(max_depth=k, random_state=random_state)\n",
    "    m.fit(x_train, y_train)\n",
    "    y_test_pred = m.predict(x_test)\n",
    "    accuracy.append(metrics.accuracy_score(y_test, y_test_pred))\n",
    "plt.plot(k_range, accuracy)\n",
    "plt.xlabel('max_depth')\n",
    "plt.ylabel('Accuracy')"
   ]
  },
  {
   "cell_type": "markdown",
   "metadata": {},
   "source": [
    "## Conclusion\n",
    "\n",
    "In this notebook have been analysed different aspects regarding **Machine Learning** in **Python** using the *digits* dataset.\n",
    "\n",
    "##### Loading and visualization\n",
    "\n",
    "Loading the dataset has been pretty easy since it is interegrated in the Scikit-learn kit. This dataset includes the 8x8 image of a digit hand-written. Every image is mapped into an array of pixel in which each position represents a pixel and its value[0:16] represents the color of that pixel. \n",
    "Looking at the Histogram it is possible to notice that the dataset is balanced. Finally there is a (not very useful) scatter plot which displays the disribution of the 22th pixel value for each digit.\n",
    "\n",
    "##### Classification\n",
    "\n",
    "Two algorithms have been used in this case **kNN** and **Decision Tree**. \n",
    "\n",
    "The first step consists to apply these algorithms is to **preprocess** the data. This operation has been divided in **two** main steps, **split the dataset** into training and testing set and then the **standardization of datasets** (common requirement for many machine learning estimators implemented in the scikit) into features that more or less look like standard normally distributed data(Gaussian with zero mean and unit variance).\n",
    "The only difference in the implementation of this part in the two algorithms is the percentage of splitting, 25% of testing set for kNN while 19% for DT.\n",
    "\n",
    "Second step is **create** and **train** the model using the sets created before. Once the model is created, the most relevant methods are *model.fit()* which trains the model, *model.predict()* which makes the prediction and *model.score()* which evaluates the prediction.After this, **Evaluating the algorithms** is the third step, simply using in-built methods it is possible to calculate *precision*, *recall*, *f-score* and the *confusion matrix*. We can noticed the difference in these two steps, in the kNN we have high accuracy while in the DT we have low accuracy.\n",
    "\n",
    "Finally, **tuning the algorithms** as last step. In the first algorithm it is necessary  to calculate which is the best value for the *k* parameter, and the results is put in a graph. In the DT instead the same procedure has been done in order to find the best value for *max_depth*. Lookk at this last result it easy to notice why the accuracy in the previous steps was so low."
   ]
  },
  {
   "cell_type": "code",
   "execution_count": null,
   "metadata": {},
   "outputs": [],
   "source": []
  }
 ],
 "metadata": {
  "kernelspec": {
   "display_name": "Python 2",
   "language": "python",
   "name": "python2"
  },
  "language_info": {
   "codemirror_mode": {
    "name": "ipython",
    "version": 2
   },
   "file_extension": ".py",
   "mimetype": "text/x-python",
   "name": "python",
   "nbconvert_exporter": "python",
   "pygments_lexer": "ipython2",
   "version": "2.7.15"
  }
 },
 "nbformat": 4,
 "nbformat_minor": 2
}
